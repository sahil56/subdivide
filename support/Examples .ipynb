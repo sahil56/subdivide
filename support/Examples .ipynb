{
 "cells": [
  {
   "cell_type": "code",
   "execution_count": 1,
   "metadata": {
    "collapsed": false
   },
   "outputs": [],
   "source": [
    "from subdivide.polygon import Polygon"
   ]
  },
  {
   "cell_type": "code",
   "execution_count": 2,
   "metadata": {
    "collapsed": false
   },
   "outputs": [
    {
     "name": "stdout",
     "output_type": "stream",
     "text": [
      "('new_points', [[[1.0, 0.99999999999999989], [0, 0]], [[0, 0], [1, 1]]])\n",
      "('seg_i', ([0, 0], [1, 0]))\n",
      "('seg_j', ([1, 0], [1, 1]))\n",
      "('new segs', [([0, 0], [1.0, 0.99999999999999989]), ([1.0, 0.99999999999999989], [0, 0])])\n",
      "('divisions', [[([1.0, 0.99999999999999989], [0, 0]), ([0, 0], [1, 0]), ([1, 0], [1, 1])]])\n",
      "('new_points', [[[0.70710678118654746, 0.70710678118654746], [1, 0]]])\n",
      "('seg_i', ([0, 0], [1, 0]))\n",
      "('seg_j', ([1, 1], [0, 0]))\n",
      "('new segs', [([1, 1], [0.70710678118654746, 0.70710678118654746]), ([0.70710678118654746, 0.70710678118654746], [0, 0]), ([1, 0], [0.70710678118654746, 0.70710678118654746])])\n",
      "('divisions', [[([1, 1], [0.70710678118654746, 0.70710678118654746]), ([0.70710678118654746, 0.70710678118654746], [0, 0]), ([0, 0], [1, 0]), ([1, 0], [1, 1])], [([0.70710678118654746, 0.70710678118654746], [1, 1]), ([1, 1], [0, 0]), ([0, 0], [1, 0]), ([1, 0], [1, 1]), ([1, 1], [0, 0])], [([0.70710678118654746, 0.70710678118654746], [0, 0]), ([0, 0], [1, 0]), ([1, 0], [1, 1]), ([1, 1], [0, 0]), ([0, 0], [1, 0]), ([1, 0], [1, 1]), ([1, 1], [0, 0])], [([1, 0], [0.70710678118654746, 0.70710678118654746]), ([0.70710678118654746, 0.70710678118654746], [0, 0]), ([0, 0], [1, 0])], [([0.70710678118654746, 0.70710678118654746], [1, 0]), ([1, 0], [1, 1]), ([1, 1], [0, 0]), ([0, 0], [1, 0]), ([1, 0], [1, 1]), ([1, 1], [0, 0])]])\n"
     ]
    },
    {
     "ename": "RuntimeError",
     "evalue": "The code found more than 3 divisions of the polygon for a given pair of line segments. This should not be possible.",
     "output_type": "error",
     "traceback": [
      "\u001b[0;31m---------------------------------------------------------------------------\u001b[0m",
      "\u001b[0;31mRuntimeError\u001b[0m                              Traceback (most recent call last)",
      "\u001b[0;32m<ipython-input-2-c2c25b0151c0>\u001b[0m in \u001b[0;36m<module>\u001b[0;34m()\u001b[0m\n\u001b[1;32m      1\u001b[0m \u001b[0mverts\u001b[0m \u001b[0;34m=\u001b[0m \u001b[0;34m[\u001b[0m\u001b[0;34m[\u001b[0m\u001b[0;36m0\u001b[0m\u001b[0;34m,\u001b[0m\u001b[0;36m0\u001b[0m\u001b[0;34m]\u001b[0m\u001b[0;34m,\u001b[0m\u001b[0;34m[\u001b[0m\u001b[0;36m1\u001b[0m\u001b[0;34m,\u001b[0m\u001b[0;36m0\u001b[0m\u001b[0;34m]\u001b[0m\u001b[0;34m,\u001b[0m\u001b[0;34m[\u001b[0m\u001b[0;36m1\u001b[0m\u001b[0;34m,\u001b[0m\u001b[0;36m1\u001b[0m\u001b[0;34m]\u001b[0m\u001b[0;34m]\u001b[0m\u001b[0;34m\u001b[0m\u001b[0m\n\u001b[1;32m      2\u001b[0m \u001b[0mp\u001b[0m \u001b[0;34m=\u001b[0m \u001b[0mPolygon\u001b[0m\u001b[0;34m(\u001b[0m\u001b[0mverts\u001b[0m\u001b[0;34m)\u001b[0m\u001b[0;34m\u001b[0m\u001b[0m\n\u001b[0;32m----> 3\u001b[0;31m \u001b[0mp\u001b[0m\u001b[0;34m.\u001b[0m\u001b[0msubdivide\u001b[0m\u001b[0;34m(\u001b[0m\u001b[0;36m2\u001b[0m\u001b[0;34m)\u001b[0m\u001b[0;34m\u001b[0m\u001b[0m\n\u001b[0m",
      "\u001b[0;32m/Users/wileymorgan/codes/subdivide/subdivide/polygon.py\u001b[0m in \u001b[0;36msubdivide\u001b[0;34m(self, N)\u001b[0m\n\u001b[1;32m     52\u001b[0m             \u001b[0mremaining_verts\u001b[0m \u001b[0;34m=\u001b[0m \u001b[0mdeepcopy\u001b[0m\u001b[0;34m(\u001b[0m\u001b[0mself\u001b[0m\u001b[0;34m.\u001b[0m\u001b[0mvertices\u001b[0m\u001b[0;34m)\u001b[0m\u001b[0;34m\u001b[0m\u001b[0m\n\u001b[1;32m     53\u001b[0m             \u001b[0;32mwhile\u001b[0m \u001b[0mlen\u001b[0m\u001b[0;34m(\u001b[0m\u001b[0msub_polys\u001b[0m\u001b[0;34m)\u001b[0m \u001b[0;34m<\u001b[0m \u001b[0mN\u001b[0m\u001b[0;34m-\u001b[0m\u001b[0;36m1\u001b[0m\u001b[0;34m:\u001b[0m\u001b[0;34m\u001b[0m\u001b[0m\n\u001b[0;32m---> 54\u001b[0;31m                 \u001b[0msub_poly\u001b[0m\u001b[0;34m,\u001b[0m \u001b[0mremaining_verts\u001b[0m \u001b[0;34m=\u001b[0m \u001b[0mself\u001b[0m\u001b[0;34m.\u001b[0m\u001b[0m_find_subdivision\u001b[0m\u001b[0;34m(\u001b[0m\u001b[0mremaining_verts\u001b[0m\u001b[0;34m,\u001b[0m\u001b[0msubarea\u001b[0m\u001b[0;34m)\u001b[0m\u001b[0;34m\u001b[0m\u001b[0m\n\u001b[0m\u001b[1;32m     55\u001b[0m                 \u001b[0msub_polys\u001b[0m\u001b[0;34m.\u001b[0m\u001b[0mappend\u001b[0m\u001b[0;34m(\u001b[0m\u001b[0msub_poly\u001b[0m\u001b[0;34m)\u001b[0m\u001b[0;34m\u001b[0m\u001b[0m\n\u001b[1;32m     56\u001b[0m             \u001b[0msub_polys\u001b[0m\u001b[0;34m.\u001b[0m\u001b[0mappend\u001b[0m\u001b[0;34m(\u001b[0m\u001b[0mremaining_verts\u001b[0m\u001b[0;34m)\u001b[0m\u001b[0;34m\u001b[0m\u001b[0m\n",
      "\u001b[0;32m/Users/wileymorgan/codes/subdivide/subdivide/polygon.py\u001b[0m in \u001b[0;36m_find_subdivision\u001b[0;34m(self, verts, area)\u001b[0m\n\u001b[1;32m    126\u001b[0m                                 \u001b[0mtest_poly\u001b[0m \u001b[0;34m=\u001b[0m \u001b[0mself\u001b[0m\u001b[0;34m.\u001b[0m\u001b[0m_trapezoid_cut\u001b[0m\u001b[0;34m(\u001b[0m\u001b[0mdivisions\u001b[0m\u001b[0;34m[\u001b[0m\u001b[0;36m2\u001b[0m\u001b[0;34m]\u001b[0m\u001b[0;34m,\u001b[0m\u001b[0marea\u001b[0m\u001b[0;34m.\u001b[0m\u001b[0mbisector\u001b[0m\u001b[0;34m,\u001b[0m\u001b[0mNone\u001b[0m\u001b[0;34m)\u001b[0m\u001b[0;34m\u001b[0m\u001b[0m\n\u001b[1;32m    127\u001b[0m                     \u001b[0;32melse\u001b[0m\u001b[0;34m:\u001b[0m\u001b[0;34m\u001b[0m\u001b[0m\n\u001b[0;32m--> 128\u001b[0;31m                         raise RuntimeError(\"The code found more than 3 divisions of \"\n\u001b[0m\u001b[1;32m    129\u001b[0m                                            \u001b[0;34m\"the polygon for a given pair of line \"\u001b[0m\u001b[0;34m\u001b[0m\u001b[0m\n\u001b[1;32m    130\u001b[0m                                            \"segments. This should not be possible.\")\n",
      "\u001b[0;31mRuntimeError\u001b[0m: The code found more than 3 divisions of the polygon for a given pair of line segments. This should not be possible."
     ]
    }
   ],
   "source": [
    "verts = [[0,0],[1,0],[1,1]]\n",
    "p = Polygon(verts)\n",
    "p.subdivide(2)"
   ]
  },
  {
   "cell_type": "code",
   "execution_count": 4,
   "metadata": {
    "collapsed": false
   },
   "outputs": [
    {
     "name": "stdout",
     "output_type": "stream",
     "text": [
      "1.0\n",
      "4.0\n",
      "[([0, 0], [1, 0]), ([1, 0], [1, 1]), ([1, 1], [0, 1]), ([0, 1], [0, 0])]\n",
      "[[0, 0], [1, 0], [1, 1], [0, 1]]\n"
     ]
    }
   ],
   "source": [
    "print(p.area)\n",
    "print(p.perimiter)\n",
    "print(p._segments)\n",
    "print(p.vertices)"
   ]
  },
  {
   "cell_type": "code",
   "execution_count": 6,
   "metadata": {
    "collapsed": false
   },
   "outputs": [
    {
     "name": "stdout",
     "output_type": "stream",
     "text": [
      "('segments', [([0, 0], [1, 0]), ([1, 0], [1, 1]), ([1, 1], [0, 1]), ([0, 1], [0, 0])])\n",
      "('perimiter', 4.0)\n",
      "('pre sum', [1.0, 1.0, 1.0, 1.0])\n"
     ]
    },
    {
     "data": {
      "text/plain": [
       "4.0"
      ]
     },
     "execution_count": 6,
     "metadata": {},
     "output_type": "execute_result"
    }
   ],
   "source": [
    "p._find_permimter()"
   ]
  },
  {
   "cell_type": "code",
   "execution_count": null,
   "metadata": {
    "collapsed": true
   },
   "outputs": [],
   "source": []
  }
 ],
 "metadata": {
  "kernelspec": {
   "display_name": "Python 2",
   "language": "python",
   "name": "python2"
  },
  "language_info": {
   "codemirror_mode": {
    "name": "ipython",
    "version": 2
   },
   "file_extension": ".py",
   "mimetype": "text/x-python",
   "name": "python",
   "nbconvert_exporter": "python",
   "pygments_lexer": "ipython2",
   "version": "2.7.9"
  }
 },
 "nbformat": 4,
 "nbformat_minor": 2
}
